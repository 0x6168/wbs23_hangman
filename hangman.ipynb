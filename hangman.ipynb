{
  "nbformat": 4,
  "nbformat_minor": 0,
  "metadata": {
    "colab": {
      "provenance": [],
      "authorship_tag": "ABX9TyNm4A3B83wIe7y/xCibSa3r",
      "include_colab_link": true
    },
    "kernelspec": {
      "name": "python3",
      "display_name": "Python 3"
    },
    "language_info": {
      "name": "python"
    }
  },
  "cells": [
    {
      "cell_type": "markdown",
      "metadata": {
        "id": "view-in-github",
        "colab_type": "text"
      },
      "source": [
        "<a href=\"https://colab.research.google.com/github/0x6168/wbs23_hangman/blob/main/hangman.ipynb\" target=\"_parent\"><img src=\"https://colab.research.google.com/assets/colab-badge.svg\" alt=\"Open In Colab\"/></a>"
      ]
    },
    {
      "cell_type": "code",
      "execution_count": null,
      "metadata": {
        "colab": {
          "base_uri": "https://localhost:8080/"
        },
        "id": "RsPwr9W-U4dZ",
        "outputId": "ed91dc7a-a8bb-4c22-fb98-58088933c03f"
      },
      "outputs": [
        {
          "output_type": "stream",
          "name": "stdout",
          "text": [
            "==============================================================\n",
            "\t\n",
            "Hidden word is -----\n",
            "\t\n",
            "Pick a letter:\n"
          ]
        }
      ],
      "source": [
        "hangman={0:'''\n",
        "        ____________\n",
        "         |''',\n",
        "        1:'''\n",
        "        ____________\n",
        "         |\n",
        "         O''',\n",
        "        2:'''\n",
        "        ____________\n",
        "        \n",
        "         O\n",
        "        /''',\n",
        "        3:'''\n",
        "        ____________\n",
        "         |\n",
        "         O\n",
        "        / \\\\''',\n",
        "        4:'''\n",
        "        ____________\n",
        "         |\n",
        "         O\n",
        "        / \\\\\n",
        "         |''',\n",
        "        5:'''\n",
        "        ____________\n",
        "         |\n",
        "         O\n",
        "        / \\\\\n",
        "         |\n",
        "        /''',\n",
        "        6:'''\n",
        "        ____________\n",
        "         |\n",
        "         O\n",
        "        / \\\\\n",
        "         |\n",
        "        / \\\\ '''};\n",
        "\n",
        "# creating a word list and choosing one pseudo-random word\n",
        "import random\n",
        "word_list = ['lemon', 'pyhton', 'screentime', 'tomato', 'engineer', 'butterfly', 'powernap']\n",
        "word = random.choice(word_list).upper()\n",
        "# preparing the hidden word and mistake count\n",
        "hidden_word = '-'*len(word)\n",
        "mistake_count = 6\n",
        "print('==============================================================')\n",
        "# \\t for having space\n",
        "print('\\t')\n",
        "hangman_count = -1\n",
        "print(f'Hidden word is {hidden_word}')\n",
        "print('\\t')\n",
        "# game stop top after 6 mistakes or when word is guessed correctly\n",
        "while mistake_count > 0 and hidden_word.count('-') != 0:\n",
        "\n",
        "# to count how many times picked_letter appears in a word \n",
        "    letter_count = 0\n",
        "\n",
        "# to count the position of a picked_letter in a word   \n",
        "    index_count = 0\n",
        "    print('Pick a letter:')\n",
        "# checking input on length, type, and capitalize it     \n",
        "    picked_letter = input().capitalize()\n",
        "    if picked_letter.isalpha == False or len(picked_letter) > 1:\n",
        "      print('\\t')\n",
        "      print('Please choose one alphabetic letter!')\n",
        "      print('\\t')\n",
        "    else:\n",
        "#count how many times picked_letter appears in word\n",
        "      for letter in word:\n",
        "        if letter == picked_letter:\n",
        "            hidden_word = hidden_word[:index_count] + picked_letter + hidden_word[index_count+1:]\n",
        "            letter_count += 1\n",
        "        index_count += 1    \n",
        "\n",
        "      if word.count(picked_letter) > 0:\n",
        "        print('\\t')\n",
        "        print(f'CORRECT! The word contains the {picked_letter}')\n",
        "        print('\\t')\n",
        "        print(hidden_word)\n",
        "        print('\\t')\n",
        "      else:\n",
        "        mistake_count -= 1\n",
        "        hangman_count += 1\n",
        "        print('\\t')\n",
        "        print(hidden_word)\n",
        "        print('\\t')\n",
        "        print(f'WRONG! Number of mistakes left: {mistake_count}')\n",
        "        print(hangman[hangman_count]) \n",
        "        \n",
        "    print('==============================================================')\n",
        "    print('\\t')\n",
        "if mistake_count == 0:\n",
        "    print('HANGED!!!')\n",
        "    print(hangman[6])\n",
        "else:\n",
        "    print('CONGRATS! YOU SAVED YOUR LIFE.');\n",
        "        "
      ]
    }
  ]
}